{
  "cells": [
    {
      "attachments": {},
      "cell_type": "markdown",
      "metadata": {
        "deletable": false,
        "editable": false,
        "id": "5eJRjRqu-c_A",
        "nbgrader": {
          "checksum": "ef88843b66adc91569384659597bfa0d",
          "grade": false,
          "grade_id": "cell-3f061ea27f528fcf",
          "locked": true,
          "schema_version": 1,
          "solution": false
        }
      },
      "source": [
        "# Reverse Mode Automatic Differentiation (AD)\n",
        "\n",
        "Dynamic Reverse mode AD can be implemented by declaring a class `Var` to represent a value and the child expressions that the value depends on. We've provided the implementation that was shown in the lecture slides. \n",
        "\n",
        "Tasks:\n",
        "\n",
        "1. Complete Addition (`__add__`) method below. \n",
        "2. Complete division (`__truediv__`), subtraction (`__sub__`) and power (`__pow__`)?"
      ]
    },
    {
      "cell_type": "code",
      "execution_count": 44,
      "metadata": {
        "deletable": false,
        "id": "Fh_7z_CJ-c_Q",
        "nbgrader": {
          "checksum": "2644b153f82b6e872e63cb5ead2d529f",
          "grade": false,
          "grade_id": "cell-b23d219550cd2934",
          "locked": false,
          "schema_version": 1,
          "solution": true
        }
      },
      "outputs": [],
      "source": [
        "import math\n",
        "\n",
        "class Var:\n",
        "    def __init__(self, value):\n",
        "        self.value = value\n",
        "        self.children = []\n",
        "        self.grad_value = None #Initialize to None, which means it's not yet evaluated\n",
        "\n",
        "    def grad(self):\n",
        "        #recurse only if the value is not yet cached\n",
        "        if self.grad_value is None:\n",
        "            #calculate derivative using chain rule\n",
        "            self.grad_value = sum(weight * var.grad() for weight, var in self.children)\n",
        "        return self.grad_value\n",
        "    \n",
        "    def __str__(self):\n",
        "        return str(self.value)\n",
        "\n",
        "    def __mul__(self, other): #(x=self, y=other) if z=x*y then dz/dx=y and dz/dy=x\n",
        "\n",
        "        z = Var(self.value * other.value) #z=x*y\n",
        "      \n",
        "        #weight = dz/dself=other.value\n",
        "        self.children.append((other.value, z)) #append [dz/dx=y, z] as children of x\n",
        "      \n",
        "        #weight = dz/dother=self.value\n",
        "        other.children.append((self.value, z)) #append [dz/dy=x, z] as children of y\n",
        "        return z\n",
        "\n",
        "# For a=x*y a is a new Var that is a child of both x and y\n",
        "\n",
        "    def __add__(self, other): #z=x+y, dz/dx = 1, dz/dy = 1\n",
        "        z = Var(self.value + other.value)\n",
        "        \n",
        "        self.children.append((1.0, z))\n",
        "        \n",
        "        other.children.append((1.0, z))\n",
        "        \n",
        "        return z\n",
        "    \n",
        "    def __sub__(self, other): #z=x-y, dz/dx = 1, dz/dy = -1\n",
        "        z = Var(self.value + other.value)\n",
        "        \n",
        "        self.children.append((1, z))\n",
        "        \n",
        "        other.children.append((-1, z))\n",
        "        \n",
        "        return z\n",
        "    \n",
        "    def __truediv__(self, other): #(x=self, y=other) z=x/y, dz/dx=1/y, dz/dy=-x/y^2\n",
        "\n",
        "        z = Var(self.value / other.value) \n",
        "      \n",
        "        self.children.append((1/other.value, z)) \n",
        "      \n",
        "        other.children.append((-self.value / other.value**2, z)) \n",
        "        \n",
        "        return z\n",
        "\n",
        "    def __pow__(self, other): #z=x^y, dz/dx = y*x^(y-1), dz/dy = ln(x)*x^y\n",
        "        z = Var(self.value ** other.value)\n",
        "        \n",
        "        self.children.append((other.value * self.value**(other.value-1), z))\n",
        "        \n",
        "        other.children.append((math.log(self.value)*self.value ** other.value, z))\n",
        "        \n",
        "        return z\n",
        "\n",
        "\n",
        "\n",
        "\n",
        "def sin(x):\n",
        "    z = Var(math.sin(x.value))\n",
        "    x.children.append((math.cos(x.value), z))\n",
        "    return z\n",
        "\n",
        "def cos(x):\n",
        "    z = Var(math.cos(x.value))\n",
        "    x.children.append((-math.sin(x.value), z))\n",
        "    return z\n",
        "\n",
        "def tan(x):\n",
        "    z = Var(math.tan(x.value))\n",
        "    x.children.append((math.sec(x.value)**2, z))\n",
        "    return z"
      ]
    },
    {
      "cell_type": "code",
      "execution_count": 45,
      "metadata": {
        "deletable": false,
        "editable": false,
        "id": "F6CNuLk0-c_S",
        "nbgrader": {
          "checksum": "afce3f80a9f8278e0ea2815a23a09c95",
          "grade": true,
          "grade_id": "cell-d2124fb6ca76110f",
          "locked": true,
          "points": 2,
          "schema_version": 1,
          "solution": false
        }
      },
      "outputs": [
        {
          "data": {
            "text/plain": [
              "1.0"
            ]
          },
          "execution_count": 45,
          "metadata": {},
          "output_type": "execute_result"
        }
      ],
      "source": [
        "# Tests\n",
        "v = Var(1)\n",
        "v.__pow__((v.__truediv__(v.__mul__(v.__sub__(v.__add__(v)))))).value\n"
      ]
    },
    {
      "attachments": {},
      "cell_type": "markdown",
      "metadata": {
        "id": "qwUhQNOFiXvJ"
      },
      "source": [
        "# Forward computation first\n",
        "1. Try running the following code to compute the value of the function  $z=a+b, a=x*y, b =sin(x)$  given  $x=0.5$  and  $y=4.2$.\n",
        "2. Print out the children of x,y,a,b with their derivatives $\\frac{\\partial a}{\\partial x},\\frac{\\partial b}{\\partial x},\\frac{\\partial a}{\\partial y},\\frac{\\partial z}{\\partial a},\\frac{\\partial z}{\\partial b}$\n"
      ]
    },
    {
      "cell_type": "code",
      "execution_count": 46,
      "metadata": {
        "id": "C18AKo51i3Ve"
      },
      "outputs": [
        {
          "name": "stdout",
          "output_type": "stream",
          "text": [
            "Before seeding:\n",
            "\n",
            "        a = 2.1  \n",
            "        dz/da = 0.0\n",
            "        children:\n",
            "                1.0\n",
            "                2.579425538604203\n",
            "        \n",
            "        b = 0.479425538604203  \n",
            "        dz/db = 0.0\n",
            "        children:\n",
            "                1.0\n",
            "                2.579425538604203\n",
            "        \n",
            "        x = 0.5  \n",
            "        dz/dx = 0.0\n",
            "        children:\n",
            "                4.2\n",
            "                2.1\n",
            "        \n",
            "        y = 4.2  \n",
            "        dz/dy = 0.0\n",
            "        children:\n",
            "                0.5\n",
            "                2.1\n",
            "        \n",
            "        z = 2.579425538604203  \n",
            "        dz/dz = 0\n",
            "        children:\n",
            "                []\n",
            "                \n"
          ]
        }
      ],
      "source": [
        "x=Var(0.5)\n",
        "y=Var(4.2)\n",
        "\n",
        "a=x.__mul__(y)\n",
        "b=sin(x)\n",
        "z=a.__add__(b)\n",
        "\n",
        "#output\n",
        "def print_values():\n",
        "        out_str = f'''\n",
        "        a = {a.value}  \n",
        "        dz/da = {a.grad()}\n",
        "        children:\n",
        "                {a.children[0][0]}\n",
        "                {a.children[0][1]}\n",
        "        \n",
        "        b = {b.value}  \n",
        "        dz/db = {b.grad()}\n",
        "        children:\n",
        "                {b.children[0][0]}\n",
        "                {b.children[0][1]}\n",
        "        \n",
        "        x = {x.value}  \n",
        "        dz/dx = {x.grad()}\n",
        "        children:\n",
        "                {x.children[0][0]}\n",
        "                {x.children[0][1]}\n",
        "        \n",
        "        y = {y.value}  \n",
        "        dz/dy = {y.grad()}\n",
        "        children:\n",
        "                {y.children[0][0]}\n",
        "                {y.children[0][1]}\n",
        "        \n",
        "        z = {z.value}  \n",
        "        dz/dz = {z.grad()}\n",
        "        children:\n",
        "                {z.children}\n",
        "                '''\n",
        "        print(out_str)\n",
        "\n",
        "print('Before seeding:')\n",
        "print_values()"
      ]
    },
    {
      "attachments": {},
      "cell_type": "markdown",
      "metadata": {
        "id": "NpnFmDzMk134"
      },
      "source": [
        "# Reverse mode computation\n",
        "\n",
        "So far we have done forward computing as we go. But we haven't computed $\\frac{\\partial z}{\\partial x}$ and $\\frac{\\partial z}{\\partial y}$ which is what we want essentially.\n",
        "\n",
        "1. Run the code below\n",
        "2. Print out the gradient of each variable and complete the code"
      ]
    },
    {
      "cell_type": "code",
      "execution_count": 48,
      "metadata": {
        "id": "Md1CQGt6k5N3"
      },
      "outputs": [
        {
          "name": "stdout",
          "output_type": "stream",
          "text": [
            "z: 2.579425538604203\n",
            "dz/dx:  0.0\n",
            "dz/dy:  0.0\n",
            "After seeding: \n",
            "\n",
            "        a = 2.1  \n",
            "        dz/da = 0.0\n",
            "        children:\n",
            "                1.0\n",
            "                2.579425538604203\n",
            "        \n",
            "        b = 0.479425538604203  \n",
            "        dz/db = 0.0\n",
            "        children:\n",
            "                1.0\n",
            "                2.579425538604203\n",
            "        \n",
            "        x = 0.5  \n",
            "        dz/dx = 0.0\n",
            "        children:\n",
            "                4.2\n",
            "                2.1\n",
            "        \n",
            "        y = 4.2  \n",
            "        dz/dy = 0.0\n",
            "        children:\n",
            "                0.5\n",
            "                2.1\n",
            "        \n",
            "        z = 2.579425538604203  \n",
            "        dz/dz = 1.0\n",
            "        children:\n",
            "                []\n",
            "                \n"
          ]
        }
      ],
      "source": [
        "z.grad_value=1.0  #z.grad_value = 1.0 #Note that we have to 'seed' the gradient of z to 1 (e.g. ∂z/∂z=1) before computing grads\n",
        "\n",
        "print('z:', z)\n",
        "print(\"dz/dx: \",x.grad())\n",
        "\n",
        "#Complete the code here\n",
        "print(\"dz/dy: \",y.grad())\n",
        "\n",
        "print('After seeding: ')\n",
        "print_values()"
      ]
    }
  ],
  "metadata": {
    "colab": {
      "provenance": []
    },
    "kernelspec": {
      "display_name": "Python 3",
      "language": "python",
      "name": "python3"
    },
    "language_info": {
      "codemirror_mode": {
        "name": "ipython",
        "version": 3
      },
      "file_extension": ".py",
      "mimetype": "text/x-python",
      "name": "python",
      "nbconvert_exporter": "python",
      "pygments_lexer": "ipython3",
      "version": "3.11.3"
    }
  },
  "nbformat": 4,
  "nbformat_minor": 0
}
