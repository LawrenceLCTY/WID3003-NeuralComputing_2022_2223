{
  "cells": [
    {
      "attachments": {},
      "cell_type": "markdown",
      "metadata": {
        "id": "gci0J-nmsMW4"
      },
      "source": [
        "## Demo of the problem in the slides\n",
        "\n",
        "But here we have to track two variables for each of the value and the derivative."
      ]
    },
    {
      "cell_type": "code",
      "execution_count": 1,
      "metadata": {
        "colab": {
          "base_uri": "https://localhost:8080/"
        },
        "id": "uHAfoB0jsLmi",
        "outputId": "768359d5-c1c3-4541-adf4-92b437e23efb"
      },
      "outputs": [
        {
          "name": "stdout",
          "output_type": "stream",
          "text": [
            "z =  2.579425538604203\n",
            "dz/dy =  5.077582561890373\n"
          ]
        }
      ],
      "source": [
        "import math \n",
        "\n",
        "x = 0.5\n",
        "y = 4.2\n",
        "b =  math.sin(x)\n",
        "a = x*y\n",
        "z = a + b\n",
        "\n",
        "\n",
        "dx = 1\n",
        "dy = 0\n",
        "da = x*dy + y*dx #product rule\n",
        "db = math.cos(x)*dx #chain rule\n",
        "dz = da + db #sum rule\n",
        "\n",
        "print('z = ',z)\n",
        "print('dz/dy = ',dz)\n",
        "\n",
        "\n"
      ]
    },
    {
      "attachments": {},
      "cell_type": "markdown",
      "metadata": {
        "id": "PuyazVrdhVtM"
      },
      "source": [
        "## Forward Mode Automatic Differentiation (AD)\n",
        "\n",
        "Forward mode AD can simply be implemented by defining a class to represent [dual numbers](https://en.wikipedia.org/wiki/Dual_number) which hold the value and its derivative. The following code defines a dual number and implements multiplication. \n",
        "\n",
        "Tasks:\n",
        "\n",
        "1. Addition (`__add__`) is incomplete - Please complete it \n",
        "2. Implement division (`__truediv__`), subtraction (`__sub__`) and power (`__pow__`) as well"
      ]
    },
    {
      "cell_type": "code",
      "execution_count": 2,
      "metadata": {
        "id": "_ACPZb-NhER1"
      },
      "outputs": [],
      "source": [
        "import math \n",
        "\n",
        "class DualNumber:\n",
        "  def __init__(self,value,dvalue): #x (self value, derivative of self value)\n",
        "    self.value = value\n",
        "    self.dvalue = dvalue #derivative\n",
        "\n",
        "  def __str__(self):\n",
        "    return str(self.value) + \" + \" + str(self.dvalue) + \"ε\"\n",
        "\n",
        "  #multiplication x = u*v, dx = v*du + u*dv\n",
        "  def __mul__(self,other): \n",
        "    return DualNumber(self.value*other.value, \n",
        "                      other.value*self.dvalue + self.value*other.dvalue)\n",
        "\n",
        "  #addition x = u+v, dx = du + dv\n",
        "  def __add__(self, other):\n",
        "    return DualNumber(self.value+other.value, \n",
        "                      self.dvalue+other.dvalue)\n",
        "  \n",
        "  #subtraction x = u-v, dx = du - dv\n",
        "  def __sub__(self, other):\n",
        "    return DualNumber(self.value-other.value, \n",
        "                      self.dvalue-other.dvalue)\n",
        " \n",
        "  #division x = u/v, dx = (v*du -u*dv) / v^2\n",
        "  def __truediv__(self, other):\n",
        "    return DualNumber(self.value/other.value, \n",
        "                      (other.value*self.dvalue - self.value*other.dvalue) / math.pow(other.value, 2))\n",
        "  \n",
        "  #power x = u^n, dx = n*x^(n-1)\n",
        "  def __pow__(self, n):\n",
        "    return DualNumber(math.pow(self.value, n), n*math.pow(self.value, n-1))\n"
      ]
    },
    {
      "cell_type": "markdown",
      "metadata": {
        "id": "5BxHyC-Ghi06"
      },
      "source": [
        "## Test your dual number functions "
      ]
    },
    {
      "cell_type": "code",
      "execution_count": 3,
      "metadata": {
        "colab": {
          "base_uri": "https://localhost:8080/"
        },
        "id": "p3GjfEzHhna5",
        "outputId": "e4b1028b-ae59-4ecc-d42f-1d4c67821e96"
      },
      "outputs": [
        {
          "name": "stdout",
          "output_type": "stream",
          "text": [
            "x  1 + 0.5ε\n",
            "y  2 + 0.7ε\n",
            "z  2 + 1.7ε\n",
            "Add:  3 + 1.2ε\n",
            "Sub:  -1 + -0.19999999999999996ε\n",
            "Mul:  2 + 1.7ε\n",
            "Div:  0.5 + 0.07500000000000001ε\n",
            "Pow:  8.0 + 12.0ε\n"
          ]
        }
      ],
      "source": [
        "x = DualNumber(1,0.5)\n",
        "y = DualNumber(2,0.7) \n",
        "z = x*y\n",
        "print('x ',x)\n",
        "print('y ',y)\n",
        "print('z ',z)\n",
        "\n",
        "# Tests (Once your operations are defined properly, then this will be ok)\n",
        "#result = DualNumber(1,0) + DualNumber(1,0) / DualNumber(1,0) - DualNumber(1,0)**DualNumber(1,0)\n",
        "print('Add: ', x.__add__(y))\n",
        "print('Sub: ', x.__sub__(y))\n",
        "print('Mul: ', x.__mul__(y))\n",
        "print('Div: ', x.__truediv__(y))\n",
        "print('Pow: ', z.__pow__(3))\n",
        "\n"
      ]
    },
    {
      "attachments": {},
      "cell_type": "markdown",
      "metadata": {
        "id": "0Txtit_s101O"
      },
      "source": [
        "## Implementing other math functions\n",
        "\n",
        "We also need to implement some core math functions. What is the sine fuction for a dual number ?"
      ]
    },
    {
      "cell_type": "code",
      "execution_count": 4,
      "metadata": {
        "colab": {
          "base_uri": "https://localhost:8080/",
          "height": 35
        },
        "id": "27ExiePH2ANe",
        "outputId": "83ed534e-2ed6-41d4-9fc8-f27ee23cb9eb"
      },
      "outputs": [],
      "source": [
        "def sin(x):\n",
        "  return DualNumber(math.sin(x.value), math.cos(x.value)*x.dvalue)\n",
        "\n",
        "#Task: implement the cosine, tangent and exponential functions below\n",
        "def cos(x):\n",
        "  return DualNumber(math.cos(x.value), -math.sin(x.value)*x.dvalue)\n",
        "\n",
        "def tan(x):\n",
        "  return DualNumber(math.tan(x.value), math.pow(math.sec(x.value), 2)*x.dvalue)\n",
        "\n",
        "def exp(x):\n",
        "  return DualNumber(math.exp(x.value), math.exp(x.dvalue))\n"
      ]
    },
    {
      "attachments": {},
      "cell_type": "markdown",
      "metadata": {
        "id": "eD2x6aJ14cwm"
      },
      "source": [
        "## Putting it all together\n",
        "\n",
        "1. Write a code to compute the value of the function $z=x\\cdot y+sin(x)$ given $x=0.5$ and $y=4.2$, together with the derivative $\\partial z/\\partial x$ at that point. \n",
        "2. If you solve the above equation manually, you should get dz/dx=y+cos(x) and dz/dy=x\n",
        "3. To get the derivatives d/dx, set d/dx=1 and d/dy=0\n",
        "4. To get d/dy, do the opposite\n",
        "5. what is z? what is dz/dx? what is dz/dy?"
      ]
    },
    {
      "cell_type": "code",
      "execution_count": 11,
      "metadata": {
        "id": "R3whQgK14lwX"
      },
      "outputs": [
        {
          "data": {
            "text/plain": [
              "(0.729425538604203, 1.8775825618903728)"
            ]
          },
          "execution_count": 11,
          "metadata": {},
          "output_type": "execute_result"
        }
      ],
      "source": [
        "#code\n",
        "x = DualNumber(0.5, 1)\n",
        "y = DualNumber(4.2, 0)\n",
        "z = x.__mul__(x)\n",
        "z = z.__add__(sin(x))\n",
        "# dz = x*dy + y*dx + math.cos(x)\n",
        "z.value, z.dvalue"
      ]
    },
    {
      "cell_type": "markdown",
      "metadata": {
        "id": "7__R_A9Q4mGE"
      },
      "source": [
        "Differentiate the above function with respect to  x  and write the symbolic derivatives. Verify the result computed above is correct by plugging-in the values into your symbolic gradient expression.\n",
        "\n",
        "Compute the derivative  ∂z/∂y  of the above expression (at the same point  x=0.5,y=4.2  as above). Verify by hand that the result is correct.\n",
        "\n",
        "Experiment with other math functions and methods you created"
      ]
    }
  ],
  "metadata": {
    "colab": {
      "authorship_tag": "ABX9TyNPrjcIInv7L1buklxsVZzQ",
      "provenance": []
    },
    "kernelspec": {
      "display_name": "Python 3",
      "name": "python3"
    },
    "language_info": {
      "codemirror_mode": {
        "name": "ipython",
        "version": 3
      },
      "file_extension": ".py",
      "mimetype": "text/x-python",
      "name": "python",
      "nbconvert_exporter": "python",
      "pygments_lexer": "ipython3",
      "version": "3.11.3"
    }
  },
  "nbformat": 4,
  "nbformat_minor": 0
}
