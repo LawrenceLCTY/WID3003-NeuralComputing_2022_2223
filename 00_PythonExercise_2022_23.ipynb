{
  "cells": [
    {
      "cell_type": "markdown",
      "metadata": {
        "id": "5Z8-hB_igN9c"
      },
      "source": [
        "#About Dot Product\n",
        "(Asking the same thing in different ways)\n",
        "1.   What is the meaning of dot product?\n",
        "2.   Why do we do dot product?\n",
        "3.   When do we use dot product?\n",
        "4.   When can we use dot product?(and when can't we use it?)\n",
        "\n",
        "\n"
      ]
    },
    {
      "cell_type": "markdown",
      "metadata": {
        "id": "C-Dd12lDgpGc"
      },
      "source": [
        "#Task\n",
        "\n",
        "1.   Generate 2 random matrices of 5x5 size\n",
        "2.   Do dot product\n",
        "\n",
        "#Question\n",
        "Given a matrix $\\textbf{A}$ defined as \n",
        "\n",
        "$\\textbf{A} =\\begin{bmatrix}\n",
        "    a & b  \\\\\n",
        "    c & d  \\\\\n",
        "\\end{bmatrix}$\n",
        "\n",
        "\n",
        "where $∀i \\in \\textbf{E}=\\{a,b,c,d\\}$,  $i$ is a unique value, how can we generate a symmetric matrix using only $\\textbf{A}$? \n",
        "\n"
      ]
    },
    {
      "cell_type": "markdown",
      "metadata": {
        "id": "pXIGoa1WhXnW"
      },
      "source": [
        "#Basic numpy\n",
        "\n",
        "1. Play around with numpy -there are many tutorials that you can google it.\n",
        "2. Comfortable enough with arrays, list,\n",
        "indexing, access elements, how to reassign values.\n",
        "3. For loops with arrays.\n",
        "4. Can create functions( take input parameters, return a value)\n",
        "5. List comprehension, very convenient.\n",
        "\n"
      ]
    },
    {
      "cell_type": "code",
      "execution_count": 2,
      "metadata": {
        "colab": {
          "base_uri": "https://localhost:8080/"
        },
        "id": "kEv8lNbigfWd",
        "outputId": "1d670017-03ac-4ecc-96c6-548e1ea8991f"
      },
      "outputs": [
        {
          "name": "stdout",
          "output_type": "stream",
          "text": [
            "[1 2 3]\n",
            "[[1 2 3]\n",
            " [4 5 6]]\n",
            "--for loops by rows here---\n",
            "item:  [1 2 3]\n",
            "item:  [4 5 6]\n",
            "1\n",
            "2\n",
            "3\n",
            "4\n",
            "5\n",
            "6\n",
            "3+2 is  5\n"
          ]
        }
      ],
      "source": [
        "import numpy as np\n",
        "\n",
        "arr = np.array([1,2,3])\n",
        "\n",
        "print(arr)\n",
        "\n",
        "arr2d = np.array([[1,2,3],[4,5,6]])\n",
        "print(arr2d)\n",
        "\n",
        "print('--for loops by rows here---')\n",
        "for item in arr2d:\n",
        "  print('item: ',item)\n",
        "for rows in range(2):\n",
        "  for columns in range(3):\n",
        "    print(arr2d[rows,columns])\n",
        "#there is much better ways of doing this \n",
        "\n",
        "#Function\n",
        "def addition(x,y):\n",
        "  return x+y\n",
        "\n",
        "print(\"3+2 is \",addition(3,2))  \n"
      ]
    },
    {
      "cell_type": "markdown",
      "metadata": {
        "id": "TcKrIY_CpLUP"
      },
      "source": [
        "#Summation of array"
      ]
    },
    {
      "cell_type": "code",
      "execution_count": 3,
      "metadata": {
        "colab": {
          "base_uri": "https://localhost:8080/"
        },
        "id": "xnpXJITUpKvI",
        "outputId": "39f351f6-5940-4a82-c367-40cb48052b1c"
      },
      "outputs": [
        {
          "name": "stdout",
          "output_type": "stream",
          "text": [
            "array:  [0.97517402 0.60553889 0.43049138] sum of array:  2.0112042826041296\n"
          ]
        }
      ],
      "source": [
        "arr= np.random.rand(3)\n",
        "print('array: ',arr,'sum of array: ',arr.sum())"
      ]
    },
    {
      "cell_type": "markdown",
      "metadata": {
        "id": "ZhFmlFsTzGtc"
      },
      "source": [
        "# Transpose, dot product\n",
        "1. Randomly initialize two vectors **a** and **b** of the same dimension\n",
        "2. Perform dot product c = **a.b**\n",
        "\n",
        "#Matrix multiplication\n",
        "1. Randomly initialize two matrices **A** and **B** of the same (inner) dimension\n",
        "2. Perform matrix multiplication  **AB** and **BA** (when is this possible?)\n",
        "3. Does **AB**= **BA**? If not, how do we set so that **AB**= **BA**?\n"
      ]
    },
    {
      "cell_type": "code",
      "execution_count": 12,
      "metadata": {
        "colab": {
          "base_uri": "https://localhost:8080/",
          "height": 185
        },
        "id": "Rx5ATupFzGSy",
        "outputId": "3e9a7cb2-5a33-4be1-d227-6850c3caaa82"
      },
      "outputs": [
        {
          "data": {
            "text/plain": [
              "(array([0.4720198 , 0.65562895, 0.31110403]),\n",
              " array([0.03297553, 0.19565621, 0.41360885]),\n",
              " 0.27251836169207233,\n",
              " 0.27251836169207233)"
            ]
          },
          "execution_count": 12,
          "metadata": {},
          "output_type": "execute_result"
        }
      ],
      "source": [
        "# YOUR CODE HERE\n",
        "a = np.random.rand(3)\n",
        "b = np.random.rand(3)\n",
        "c = np.dot(a,b)\n",
        "d = np.dot(b,a)\n",
        "a, b, c, d"
      ]
    },
    {
      "cell_type": "markdown",
      "metadata": {
        "id": "9bTscTVyhYqu"
      },
      "source": [
        "#Random seed\n",
        "\n",
        "For reproducibility. Pseudo random generators are not actually random, but deterministic in a sense. "
      ]
    },
    {
      "cell_type": "code",
      "execution_count": 3,
      "metadata": {
        "colab": {
          "base_uri": "https://localhost:8080/"
        },
        "id": "PGzFm_nChdbV",
        "outputId": "9b6cb484-88a7-4239-957e-a56ae4e63f28"
      },
      "outputs": [
        {
          "name": "stdout",
          "output_type": "stream",
          "text": [
            "0.23796462709189137\n",
            "0.5714025946899135\n",
            "--------\n",
            "0.8444218515250481\n",
            "0.13436424411240122\n",
            "0.9560342718892494\n",
            "0.23796462709189137\n",
            "0.23604808973743452\n",
            "0.6229016948897019\n",
            "0.793340083761663\n",
            "0.32383276483316237\n",
            "0.2267058593810488\n",
            "0.46300735781502145\n",
            "0.5714025946899135\n"
          ]
        }
      ],
      "source": [
        "import random\n",
        "random.seed(3)\n",
        "print(random.random())\n",
        "random.seed(10)\n",
        "print(random.random())\n",
        "\n",
        "\n",
        "print(\"--------\")\n",
        "for i in range(11):\n",
        "  random.seed(i)\n",
        "  print(random.random())\n"
      ]
    },
    {
      "cell_type": "markdown",
      "metadata": {
        "id": "u4GhkKdQAaRO"
      },
      "source": [
        "#Torch exercise \n",
        "-To change the shape of an array in torch/tensor, use view and re assign the variable. view() is like np.reshape() \n"
      ]
    },
    {
      "cell_type": "code",
      "execution_count": 13,
      "metadata": {
        "colab": {
          "base_uri": "https://localhost:8080/"
        },
        "id": "Hm1xjPDqAle0",
        "outputId": "5d98f1ca-cdb5-41e3-80f5-e7dd60fcbcd9"
      },
      "outputs": [
        {
          "ename": "ModuleNotFoundError",
          "evalue": "No module named 'torch'",
          "output_type": "error",
          "traceback": [
            "\u001b[1;31m---------------------------------------------------------------------------\u001b[0m",
            "\u001b[1;31mModuleNotFoundError\u001b[0m                       Traceback (most recent call last)",
            "Cell \u001b[1;32mIn[13], line 1\u001b[0m\n\u001b[1;32m----> 1\u001b[0m \u001b[39mimport\u001b[39;00m \u001b[39mtorch\u001b[39;00m\n\u001b[0;32m      2\u001b[0m \u001b[39mprint\u001b[39m(\u001b[39m\"\u001b[39m\u001b[39m\\n\u001b[39;00m\u001b[39m---A 4x4 tensor----\u001b[39m\u001b[39m\\n\u001b[39;00m\u001b[39m\"\u001b[39m)\n\u001b[0;32m      3\u001b[0m a\u001b[39m=\u001b[39mtorch\u001b[39m.\u001b[39mrand(\u001b[39m4\u001b[39m,\u001b[39m4\u001b[39m)\n",
            "\u001b[1;31mModuleNotFoundError\u001b[0m: No module named 'torch'"
          ]
        }
      ],
      "source": [
        "import torch\n",
        "print(\"\\n---A 4x4 tensor----\\n\")\n",
        "a=torch.rand(4,4)\n",
        "print(a)\n",
        "\n",
        "print(\"\\n---Reshaped tensor to 8x2----\\n\")\n",
        "a = a.view(8,2)\n",
        "print(a)\n",
        "\n",
        "print(\"\\n---Flattens the tensor into a vector----\\n\")\n",
        "a = a.view(-1)\n",
        "print(a)"
      ]
    },
    {
      "cell_type": "code",
      "execution_count": 15,
      "metadata": {
        "colab": {
          "base_uri": "https://localhost:8080/"
        },
        "id": "YQ26TA7kTp0w",
        "outputId": "6f10c065-27e6-4fcc-d7b2-e76c7b23c136"
      },
      "outputs": [
        {
          "name": "stdout",
          "output_type": "stream",
          "text": [
            "[[-1 -1]\n",
            " [-1  1]\n",
            " [ 1 -1]\n",
            " [ 1  1]]\n"
          ]
        }
      ],
      "source": [
        "X = np.array([[-1, -1], [-1, 1], [1, -1], [1, 1]])\n",
        "print(X)"
      ]
    }
  ],
  "metadata": {
    "colab": {
      "authorship_tag": "ABX9TyPefH4xZPvJvvHq2fpXybJ8",
      "provenance": []
    },
    "kernelspec": {
      "display_name": "Python 3",
      "name": "python3"
    },
    "language_info": {
      "codemirror_mode": {
        "name": "ipython",
        "version": 3
      },
      "file_extension": ".py",
      "mimetype": "text/x-python",
      "name": "python",
      "nbconvert_exporter": "python",
      "pygments_lexer": "ipython3",
      "version": "3.11.2"
    }
  },
  "nbformat": 4,
  "nbformat_minor": 0
}
