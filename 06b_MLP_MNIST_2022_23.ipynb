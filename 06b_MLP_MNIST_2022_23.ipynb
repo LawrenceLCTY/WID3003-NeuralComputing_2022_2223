{
  "cells": [
    {
      "attachments": {},
      "cell_type": "markdown",
      "metadata": {
        "id": "o8b-S667EYyb"
      },
      "source": [
        "## Classifying MNIST handwriting digits with Multi Layer Perceptron(MLP)\n",
        "\n",
        "* In this session, we will create a fully connected MLP with one hidden layer, train and evaluate the network on the MNIST dataset. \n",
        "* The MNIST dataset is small enough that we can use a simple MLP for training( (The MNIST images are relatively small)"
      ]
    },
    {
      "attachments": {},
      "cell_type": "markdown",
      "metadata": {
        "id": "r1JnsNcWI5N2"
      },
      "source": [
        "## What does our planned MLP looks like? Draw the diagram \n",
        "\n",
        "* How many inputs?\n",
        "* How many hidden layers?\n",
        "* How many neurons in the hidden layers?\n",
        "* How many neurons in the output layer?\n",
        "* What about activation functions?\n"
      ]
    },
    {
      "attachments": {},
      "cell_type": "markdown",
      "metadata": {
        "id": "DSCH5t2Q9ft-"
      },
      "source": [
        "## The Main Steps\n",
        "\n",
        "Generally, the main steps for building a Deep Learning Neural Network are as follows. \n",
        "\n",
        "1. Import libraries, seed\n",
        "2. Set data preprocessing (transform), download dataset, split train and test \n",
        "3. Set Dataloaders \n",
        "4. Define the model class\n",
        "5. Set loss function, optimizer and learning rate\n",
        "6. Training : Load the data\n",
        "7. Training : Zero the parameter gradients\n",
        "8. Training : Compute fwd\n",
        "9. Training : Compute loss\n",
        "10. Training : Compute backward,set optimizer(update weights)\n",
        "10. Evaluation of trained model on test dataset"
      ]
    },
    {
      "attachments": {},
      "cell_type": "markdown",
      "metadata": {
        "id": "BNFEQyulhw-t"
      },
      "source": [
        "## 1. Import libraries, seeding random for reproducibility"
      ]
    },
    {
      "cell_type": "code",
      "execution_count": 1,
      "metadata": {
        "id": "ZWLMUg75h1WD"
      },
      "outputs": [
        {
          "name": "stderr",
          "output_type": "stream",
          "text": [
            "UsageError: Line magic function `%` not found.\n"
          ]
        }
      ],
      "source": [
        "import torch\n",
        "import torch.nn.functional as F\n",
        "import torch.nn as nn\n",
        "import numpy as np \n",
        "from torchvision import datasets\n",
        "from torchvision import transforms\n",
        "from torch.utils.data import DataLoader\n",
        "import matplotlib.pyplot as plt\n",
        "% matplotlib inline\n",
        "\n",
        "seed = 7\n",
        "torch.manual_seed(seed)\n",
        "torch.backends.cudnn.deterministic = True  \n",
        "torch.backends.cudnn.benchmark = False #for a small dataset, simple network , this is not really needed\n",
        "np.random.seed(seed)\n"
      ]
    },
    {
      "attachments": {},
      "cell_type": "markdown",
      "metadata": {
        "id": "b6hjWnsMXkcC"
      },
      "source": [
        "## 2. Download the MNIST dataset and Data pre-processing\n",
        "\n",
        "* Each PIL image is converted to a PyTorch tensor using transforms.ToTensor()\n",
        "* The 28*28 image data is flattened into a vector using lambda which is a customized transformation. Here lambda returns a new view of the input tensor which is the product of the input tensor's dimension. \n",
        "\n",
        "* We are also splitting the MNIST dataset into training and test dataset\n",
        "\n",
        "\n",
        "\n",
        "\n",
        "\n",
        "\n"
      ]
    },
    {
      "cell_type": "code",
      "execution_count": 2,
      "metadata": {
        "colab": {
          "base_uri": "https://localhost:8080/"
        },
        "id": "cUuXmfLu2qAC",
        "outputId": "ea890117-527c-4bfd-cec6-8f9f1a986a09"
      },
      "outputs": [
        {
          "name": "stdout",
          "output_type": "stream",
          "text": [
            "60000\n"
          ]
        }
      ],
      "source": [
        "\n",
        "transformCustom = transforms.Compose([\n",
        "                                transforms.ToTensor(), #this convert to tensor\n",
        "                                transforms.Lambda(lambda x:x.view(-1))  #this flatten 28*28 into a 784 vector for each image\n",
        "])\n",
        "\n",
        "\n",
        "train = datasets.MNIST(root='.',train=True,transform=transformCustom, download=True)\n",
        "test = datasets.MNIST(root='.', train=False, transform=transformCustom,download=True)\n",
        "\n",
        "print(len(train.data))\n"
      ]
    },
    {
      "attachments": {},
      "cell_type": "markdown",
      "metadata": {
        "id": "YUt7Ri6UlD6w"
      },
      "source": [
        "## 3. DataLoaders\n",
        "\n",
        "* Previously like in the perceptron assignment, we passed data manually. Depends on the implementation, for each iteration sometimes we pass one row of data, or one mini batch of data, or one whole batch of data. And for the case of Stochastic Gradient Descent, we need to randomly shuffle the dataset or randomly pick one sample from the dataset i.e we have to do it manually\n",
        "\n",
        "* In PyTorch, we can use DataLoader class that automatically pass the batches of data fetched from a Dataset object. We can also set if we want the DataLoader to shuffle the data and the size of each batch of data.\n",
        "\n",
        "* Each batch is a tuple containing the images in the first element and the labels in the second"
      ]
    },
    {
      "cell_type": "code",
      "execution_count": 3,
      "metadata": {
        "id": "lj8rAV1rlG6j"
      },
      "outputs": [],
      "source": [
        "#Set DataLoader\n",
        "batchSize = 128  # Rule of thumb is to set to the power of 2. In this case 2^7\n",
        "train_loader = DataLoader(train, batch_size=batchSize,shuffle=True)\n",
        "test_loader = DataLoader(test,batch_size=batchSize, shuffle=False) # no need to shuffle test data"
      ]
    },
    {
      "attachments": {},
      "cell_type": "markdown",
      "metadata": {
        "id": "CJeiPHmXEh62"
      },
      "source": [
        "## Task:\n",
        "\n",
        "What is the shape of the train data and train label?\n",
        "\n",
        "How many batches are there? Is the size for each batch the same ? \n",
        "\n",
        "Do the same for test data (test_loader)"
      ]
    },
    {
      "cell_type": "code",
      "execution_count": 4,
      "metadata": {
        "colab": {
          "base_uri": "https://localhost:8080/",
          "height": 130
        },
        "id": "kI7w4INaEzgY",
        "outputId": "210d1a9c-f2f2-40d3-ef96-805e4d095bbb"
      },
      "outputs": [
        {
          "name": "stdout",
          "output_type": "stream",
          "text": [
            "There are 469 batches in train_loader\n",
            "There are 79 batches in test_loader\n",
            "tensor([[0., 0., 0.,  ..., 0., 0., 0.],\n",
            "        [0., 0., 0.,  ..., 0., 0., 0.],\n",
            "        [0., 0., 0.,  ..., 0., 0., 0.],\n",
            "        ...,\n",
            "        [0., 0., 0.,  ..., 0., 0., 0.],\n",
            "        [0., 0., 0.,  ..., 0., 0., 0.],\n",
            "        [0., 0., 0.,  ..., 0., 0., 0.]]) tensor([7, 6, 1, 6, 5, 8, 8, 6, 6, 3, 2, 9, 8, 6, 9, 2, 0, 1, 3, 9, 5, 6, 1, 0,\n",
            "        8, 8, 8, 9, 7, 1, 1, 8, 0, 3, 8, 2, 7, 3, 7, 7, 6, 5, 4, 7, 7, 0, 2, 5,\n",
            "        7, 4, 1, 3, 7, 7, 8, 2, 8, 5, 2, 0, 5, 8, 2, 4, 6, 8, 0, 1, 3, 8, 9, 6,\n",
            "        2, 5, 3, 0, 9, 1, 7, 3, 0, 1, 8, 2, 2, 9, 0, 6, 0, 0, 1, 3, 4, 4, 1, 9,\n",
            "        2, 3, 6, 4, 0, 0, 3, 5, 8, 9, 6, 3, 6, 1, 6, 7, 1, 7, 1, 8, 4, 5, 8, 6,\n",
            "        3, 8, 6, 3, 9, 7, 8, 0])\n"
          ]
        }
      ],
      "source": [
        "print(f'There are {len(train_loader)} batches in train_loader')\n",
        "print(f'There are {len(test_loader)} batches in test_loader')\n",
        "for x, y in train_loader:\n",
        "    print(x, y)\n",
        "    break"
      ]
    },
    {
      "attachments": {},
      "cell_type": "markdown",
      "metadata": {
        "id": "kbiHO3EGRmYV"
      },
      "source": [
        "## Define the Neural Net model/class (MLP with one hidden layer, fully connected)\n",
        "\n",
        "* Define our model in a class that extends nn.Module. \n",
        "* nn.Module subclasses must do a minimum of one thing: implement the forward method which takes a batch of data and performs the forward-pass. \n",
        "\n",
        "* PyTorch's autograd system will take care of computing the gradients of the forward pass for us. In the code below we'll also make use of the constructor of our model to instantiate the hidden and output layers.\n",
        "\n",
        "\n",
        "* The nn.Module class defines a instance variable called `training` that is set to True when the model is being trained and False when it is being evaluated after being trained. \n",
        "\n",
        "* In our model definition we've used a softmax activation function on the output layer to turn the outputs into probability-like values, but have only set this to be enabled when we are not training the model. We've done this because we will use PyTorch's implementation of Cross Entropy Loss (nn.CrossEntropyLoss) during training which **implicitly** adds a softmax before a logarithmic loss.\n",
        "\n",
        "* In our case the softmax isn't actually necessary for model evaluation if we're only interested in the most likely class; the logits (unscaled log probabilities) provided by the final fully connected layer before the softmax can be used directly as the largest logit will correspond to the most likely class.\n"
      ]
    },
    {
      "cell_type": "code",
      "execution_count": 5,
      "metadata": {
        "id": "g8BT_CFp5S-H"
      },
      "outputs": [],
      "source": [
        "class MLP(nn.Module):\n",
        "  #for this excercise, input layer size = hidden layer size = 764, num_classes = 10\n",
        "  def __init__(self,input_size, hidden_size,num_classes):\n",
        "    super(MLP,self).__init__()\n",
        "\n",
        "    self.layer1 = nn.Linear(input_size,hidden_size) \n",
        "    self.layer2 = nn.Linear(hidden_size,num_classes)\n",
        "\n",
        "  def forward(self,x): \n",
        "\n",
        "    out = self.layer1(x)\n",
        "    #out = F.sigmoid(out) \n",
        "    out = torch.sigmoid(out)\n",
        "    out = self.layer2(out)\n",
        "    #out = softmax(out) #implicitly added during training by nn.CrossEntropyLoss\n",
        "\n",
        "    if not self.training:\n",
        "      out = F.softmax(out,dim=1)\n",
        "    return out\n",
        " \n"
      ]
    },
    {
      "attachments": {},
      "cell_type": "markdown",
      "metadata": {},
      "source": [
        "## 5 Set loss function, optimizer"
      ]
    },
    {
      "cell_type": "code",
      "execution_count": 6,
      "metadata": {},
      "outputs": [],
      "source": [
        "\n",
        "model = MLP(784, 784, 10) #input_size,hidden_size,num_classes\n",
        "\n",
        "#5. Set loss function and optimizer\n",
        "loss_fn = nn.CrossEntropyLoss() \n",
        "opt = torch.optim.Adam(model.parameters()) #optimizer, optimization strategy-to escape the local minima and to converge quickly\n",
        "#Rule of thumb for optimizer\n",
        "#1. if you want to keep things simple. use ADAM\n",
        "#2. if you have time, then use SGD, and tune the learning rate/parameters (this is usually done by postgrad students)\n",
        "#3. if you are implementing a paper, use the same strategy as what the authors are using \n"
      ]
    },
    {
      "attachments": {},
      "cell_type": "markdown",
      "metadata": {
        "id": "oPxwE0FXRvtw"
      },
      "source": [
        "## 6-10 Training\n",
        "\n",
        "\n",
        "\n",
        "\n",
        "Training and Evaluating the Model\n",
        "* One of the design decisions of PyTorch is that everything should be explicit so we have full control over our models and the training process. \n",
        "\n",
        "* This means that we actually need to write the model training loop by hand, and perform each of the various operations (perform the forward-pass, compute the loss, perform the backward-pass, and update the weights). \n",
        "\n",
        "* In the code below we'll fit the model to the data over several epochs using batches of 128 images provided by the DataLoader defined previously. \n",
        "\n",
        "* We'll make use of the ADAM optimiser as it broadly tends to work well practically despite its limitations."
      ]
    },
    {
      "cell_type": "code",
      "execution_count": 7,
      "metadata": {
        "colab": {
          "base_uri": "https://localhost:8080/"
        },
        "id": "lcBNvprNR7Xr",
        "outputId": "08be13b0-ab93-4329-c7f3-a23db761c31b"
      },
      "outputs": [
        {
          "name": "stdout",
          "output_type": "stream",
          "text": [
            "Epoch: 1  loss: 221.34736248850822\n",
            "Epoch: 2  loss: 109.50942459702492\n",
            "Epoch: 3  loss: 82.88909070938826\n",
            "Epoch: 4  loss: 65.68575198575854\n",
            "Epoch: 5  loss: 51.975723231211305\n"
          ]
        }
      ],
      "source": [
        "epochSize =5 #obviously this isn't enough\n",
        "losses = []\n",
        "for epoch in range(epochSize): #this training part can be made into a function, or defined as function of class MLP\n",
        "  \n",
        "   #model.train() #by default, this is set to true. so not really needed. what is important is model.eval() that we'll see that later\n",
        "   #refer https://pytorch.org/docs/stable/generated/torch.nn.Module.html for more details.\n",
        "\n",
        "\n",
        "  loss = 0\n",
        "  # 6. Load the data \n",
        "  for input_batch, target_batch in train_loader:\n",
        "\n",
        "    #7. Zero the gradients\n",
        "    opt.zero_grad() \n",
        "    \n",
        "    #8. Forward pass\n",
        "    predict_batch = model(input_batch) \n",
        "    \n",
        "    #9. Compute loss\n",
        "    loss_batch = loss_fn(predict_batch,target_batch)  \n",
        "    \n",
        "    #10. Backward pass and update weights\n",
        "    loss_batch.backward() #autodifferentiation\n",
        "    opt.step() #update weights\n",
        "\n",
        "    loss += loss_batch.item() #store the loss\n",
        "  \n",
        "  losses.append(loss)\n",
        "  print(f'Epoch: {epoch+1}  loss: {loss}')    \n",
        "  \n",
        "        \n",
        "    \n"
      ]
    },
    {
      "attachments": {},
      "cell_type": "markdown",
      "metadata": {
        "id": "EkEi-hH2jvmr"
      },
      "source": [
        "## Task: Visualize epoch vs loss/cost and minibatches vs loss/cost\n",
        "\n",
        "\n",
        "* In the above we printed out the total loss at the end of each epoch. With your own code, plot the loss.\n",
        "\n"
      ]
    },
    {
      "cell_type": "code",
      "execution_count": 8,
      "metadata": {
        "id": "OZBB8Us98GPm"
      },
      "outputs": [
        {
          "data": {
            "text/plain": [
              "[<matplotlib.lines.Line2D at 0x1d355aa5910>]"
            ]
          },
          "execution_count": 8,
          "metadata": {},
          "output_type": "execute_result"
        },
        {
          "data": {
            "image/png": "[encoded data removed]",
            "text/plain": [
              "<Figure size 640x480 with 1 Axes>"
            ]
          },
          "metadata": {},
          "output_type": "display_data"
        }
      ],
      "source": [
        "plt.plot(list(range(1,epochSize+1)), losses)"
      ]
    },
    {
      "attachments": {},
      "cell_type": "markdown",
      "metadata": {
        "id": "i8eZt4DYf5mz"
      },
      "source": [
        "## Task: Create a function that evaluates trained model on the training dataset\n",
        "\n",
        "* Compute the overall accuracy of the training set. Note that you need a call to model.eval() - this sets the model into evaluation mode and supresses non-training things (gradients, and things such as dropout being applied/computed)."
      ]
    },
    {
      "cell_type": "code",
      "execution_count": 11,
      "metadata": {
        "id": "20Z7OkDUiI78"
      },
      "outputs": [],
      "source": [
        "def compute_accuracy(data_loader):\n",
        "  total = correct = 0\n",
        "  model.eval() # sets the model in evaluation mode \n",
        "  for input_batch, target_batch in data_loader: #data_loader can take train or test dataset\n",
        "    predict_batch = model(input_batch)     \n",
        "    _, predicted = torch.max(predict_batch.data, 1)\n",
        "    total += target_batch.size(0)\n",
        "    correct += (predicted == target_batch).sum().item()\n",
        "  print(f'Accuracy of the network on images: {100 * correct / total}')\n",
        "  print(f'number of evaluated data: {total}')\n",
        "  print(f'number of wrongly predicted label: {total - correct}')\n",
        "\n"
      ]
    },
    {
      "attachments": {},
      "cell_type": "markdown",
      "metadata": {
        "id": "L_Fd3_fa8h2r"
      },
      "source": [
        "## 11.Task: Evaluation of trained model on test data\n",
        "\n",
        "* Compute the overall accuracy of the test set. Note that you need a call to model.eval() - this sets the model into evaluation mode and supresses non-training things (gradients, and things such as dropout being applied/computed)."
      ]
    },
    {
      "cell_type": "code",
      "execution_count": 13,
      "metadata": {
        "id": "DPxdTCqbsqqI"
      },
      "outputs": [
        {
          "name": "stdout",
          "output_type": "stream",
          "text": [
            "Accuracy of the network on images: 96.76\n",
            "number of evaluated data: 10000\n",
            "number of wrongly predicted label: 324\n",
            "Accuracy of the network on images: 97.295\n",
            "number of evaluated data: 60000\n",
            "number of wrongly predicted label: 1623\n"
          ]
        }
      ],
      "source": [
        "compute_accuracy(test_loader)\n",
        "compute_accuracy(train_loader)"
      ]
    }
  ],
  "metadata": {
    "accelerator": "GPU",
    "colab": {
      "authorship_tag": "ABX9TyNvYjyBphKmk/49rrG/He9b",
      "provenance": []
    },
    "kernelspec": {
      "display_name": "Python 3",
      "name": "python3"
    },
    "language_info": {
      "codemirror_mode": {
        "name": "ipython",
        "version": 3
      },
      "file_extension": ".py",
      "mimetype": "text/x-python",
      "name": "python",
      "nbconvert_exporter": "python",
      "pygments_lexer": "ipython3",
      "version": "3.11.3"
    }
  },
  "nbformat": 4,
  "nbformat_minor": 0
}
